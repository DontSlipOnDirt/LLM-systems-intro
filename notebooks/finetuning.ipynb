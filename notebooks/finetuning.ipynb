{
 "cells": [
  {
   "cell_type": "markdown",
   "metadata": {},
   "source": [
    "# LoRA Fine-Tuning Notebook"
   ]
  },
  {
   "cell_type": "markdown",
   "metadata": {},
   "source": [
    "Goal of this notebook: Guide you through an end-to-end process of fine-tuning a Large Language Model with LoRA Adapters. It assume a basic understanding of the method."
   ]
  },
  {
   "cell_type": "code",
   "execution_count": 1,
   "metadata": {},
   "outputs": [
    {
     "name": "stderr",
     "output_type": "stream",
     "text": [
      "/home/conda/users/envs/users-LLM-systems-intro/lib/python3.12/site-packages/tqdm/auto.py:21: TqdmWarning: IProgress not found. Please update jupyter and ipywidgets. See https://ipywidgets.readthedocs.io/en/stable/user_install.html\n",
      "  from .autonotebook import tqdm as notebook_tqdm\n"
     ]
    }
   ],
   "source": [
    "# import necessary python libraries\n",
    "from peft import LoraConfig, get_peft_model, PeftModel\n",
    "from transformers import AutoTokenizer, AutoModelForCausalLM, TrainingArguments, Trainer, DataCollatorForLanguageModeling, pipeline\n",
    "from torch.utils.data import Dataset\n",
    "import torch\n",
    "import pickle\n",
    "from nltk.translate.bleu_score import sentence_bleu, SmoothingFunction\n",
    "from rouge_score import rouge_scorer\n",
    "import time\n",
    "import math\n",
    "from datasets import load_dataset\n",
    "from sklearn.model_selection import train_test_split"
   ]
  },
  {
   "cell_type": "code",
   "execution_count": 2,
   "metadata": {},
   "outputs": [],
   "source": [
    "# parameters\n",
    "\n",
    "# files\n",
    "chunk_filename_pkl = \"data/kahneman_chunks.pkl\"\n",
    "\n",
    "# model\n",
    "model_name = \"deepseek-ai/DeepSeek-R1-Distill-Qwen-1.5B\"\n",
    "#model_name = \"deepseek-ai/deepseek-llm-7b-base\"\n",
    "\n",
    "# LoRA config\n",
    "r = 16\n",
    "lora_alpha = 32\n",
    "lora_dropout = 0.1\n",
    "target_modules=[\"q_proj\", \"v_proj\"] # you could add more. This depends on your models weights matrices\n",
    "bias=\"none\"\n",
    "task_type=\"CAUSAL_LM\"\n",
    "\n",
    "# LoRA training\n",
    "\n",
    "output_dir=\"./lora_finetuned_model/deepseek-llm-7b-base\" # path for saving the fine tuned model\n",
    "per_device_train_batch_size=4 # batch size for each device (e.g. GPU)\n",
    "gradient_accumulation_steps=4 # how many forward passes to accumulate before running a backward pass. simluates a larger batch size\n",
    "learning_rate=2e-4 \n",
    "num_train_epochs=3 # number of training epochs\n",
    "save_strategy=\"epoch\" # when the model is saved\n",
    "fp16=True #this and the following command ensure better numerical stability\n",
    "bf16=False\n",
    "logging_steps=10 # after how many iterations each logging is reported\n",
    "report_to=\"none\"  # whether to log to external services like WandB"
   ]
  },
  {
   "cell_type": "code",
   "execution_count": 3,
   "metadata": {},
   "outputs": [],
   "source": [
    "# Load the tokenizer and model\n",
    "tokenizer = AutoTokenizer.from_pretrained(pretrained_model_name_or_path=model_name)\n",
    "original_model = AutoModelForCausalLM.from_pretrained(pretrained_model_name_or_path=model_name)"
   ]
  },
  {
   "cell_type": "code",
   "execution_count": 4,
   "metadata": {},
   "outputs": [],
   "source": [
    "with open(chunk_filename_pkl, 'rb') as f:\n",
    "    kahneman_paragraphs = pickle.load(f)"
   ]
  },
  {
   "cell_type": "code",
   "execution_count": null,
   "metadata": {},
   "outputs": [],
   "source": [
    "# train (80%) / test (20%) split\n",
    "train_texts, test_texts = train_test_split(kahneman_paragraphs, test_size=0.2, random_state=42)\n",
    "\n",
    "print(f\"Training set size: {len(train_texts)} paragraphs\")\n",
    "print(f\"Test set size: {len(test_texts)} paragraphs\")\n",
    "\n",
    "#Thoughts: is random splitting the best idea, as paragraphs are not independent\n",
    "# + we loose some paragraphs for training, when splitting the data. We cannot use these paragraphs for compressing the data into the LLM"
   ]
  },
  {
   "cell_type": "code",
   "execution_count": null,
   "metadata": {},
   "outputs": [],
   "source": [
    "# Define LoRA configuration\n",
    "lora_config = LoraConfig(\n",
    "    r=16,  # Rank: Controls adaptation capacity\n",
    "    lora_alpha=lora_alpha,  # Scaling factor\n",
    "    lora_dropout=lora_dropout,  # Dropout probability\n",
    "    target_modules=target_modules,  # Target attention layers\n",
    "    bias=bias,\n",
    "    task_type=task_type,\n",
    ")\n",
    "\n",
    "# Apply LoRA to the model\n",
    "model = get_peft_model(original_model, lora_config)\n",
    "model.print_trainable_parameters()  # Verify trainable params"
   ]
  },
  {
   "cell_type": "code",
   "execution_count": null,
   "metadata": {},
   "outputs": [],
   "source": [
    "\"\"\" # Define dataset class\n",
    "class TextDataset(Dataset):\n",
    "    def __init__(self, texts, tokenizer, max_length=512):\n",
    "        self.tokenizer = tokenizer\n",
    "        self.input_ids = []\n",
    "        \n",
    "        for text in texts:\n",
    "            encoded = tokenizer(text, truncation=True, padding=\"max_length\", max_length=max_length, return_tensors=\"pt\")\n",
    "            self.input_ids.append(encoded.input_ids.squeeze(0))\n",
    "\n",
    "    def __len__(self):\n",
    "        return len(self.input_ids)\n",
    "\n",
    "    def __getitem__(self, idx):\n",
    "        return {\"input_ids\": self.input_ids[idx], \"labels\": self.input_ids[idx]} \"\"\"\n",
    "\n",
    "class TextDataset(Dataset):\n",
    "    def __init__(self, texts, tokenizer, max_length=512):\n",
    "        self.examples = []\n",
    "\n",
    "        for text in texts:\n",
    "            encoding = tokenizer(\n",
    "                text,\n",
    "                truncation=True,\n",
    "                padding=\"max_length\",\n",
    "                max_length=max_length,\n",
    "                return_tensors=\"pt\"\n",
    "            )\n",
    "\n",
    "            input_ids = encoding[\"input_ids\"].squeeze()\n",
    "            attention_mask = encoding[\"attention_mask\"].squeeze()\n",
    "\n",
    "            # Set labels the same as input_ids, but ignore padding with -100\n",
    "            labels = input_ids.clone()\n",
    "            labels[labels == tokenizer.pad_token_id] = -100\n",
    "\n",
    "            self.examples.append({\n",
    "                \"input_ids\": input_ids,\n",
    "                \"attention_mask\": attention_mask,\n",
    "                \"labels\": labels\n",
    "            })\n",
    "\n",
    "    def __len__(self):\n",
    "        return len(self.examples)\n",
    "\n",
    "    def __getitem__(self, idx):\n",
    "        return self.examples[idx]\n",
    "\n",
    "\n",
    "# Create dataset\n",
    "train_dataset = TextDataset(train_texts, tokenizer)\n",
    "test_dataset = TextDataset(test_texts, tokenizer)"
   ]
  },
  {
   "cell_type": "code",
   "execution_count": null,
   "metadata": {},
   "outputs": [],
   "source": [
    "data_collator = DataCollatorForLanguageModeling(tokenizer=tokenizer, mlm=False)  # Causal LM, not masked LM"
   ]
  },
  {
   "cell_type": "code",
   "execution_count": null,
   "metadata": {},
   "outputs": [],
   "source": [
    "# Training arguments\n",
    "training_args = TrainingArguments(\n",
    "    output_dir=output_dir,\n",
    "    per_device_train_batch_size=per_device_train_batch_size,\n",
    "    gradient_accumulation_steps=gradient_accumulation_steps,\n",
    "    learning_rate=learning_rate,\n",
    "    num_train_epochs=num_train_epochs,\n",
    "    save_strategy=save_strategy,\n",
    "    fp16=fp16, #this and the following command ensure better numerical stability\n",
    "    bf16=bf16,\n",
    "    logging_steps=logging_steps,\n",
    "    report_to=report_to  # Disable logging to external services like WandB\n",
    ")"
   ]
  },
  {
   "cell_type": "code",
   "execution_count": null,
   "metadata": {},
   "outputs": [],
   "source": [
    "# Trainer\n",
    "trainer = Trainer(\n",
    "    model=model,\n",
    "    args=training_args,\n",
    "    train_dataset=train_dataset,\n",
    "    data_collator=data_collator,\n",
    ")"
   ]
  },
  {
   "cell_type": "code",
   "execution_count": null,
   "metadata": {},
   "outputs": [],
   "source": [
    "# Record the start time\n",
    "start_time = time.time()\n",
    "\n",
    "# Train the model\n",
    "trainer.train()\n",
    "\n",
    "# Record the end time\n",
    "end_time = time.time()\n",
    "\n",
    "# Calculate the elapsed time\n",
    "elapsed_time = (end_time - start_time)/60\n",
    "\n",
    "# Print the training duration in seconds\n",
    "print(f\"Training took {elapsed_time:.2f} minutes.\")"
   ]
  },
  {
   "cell_type": "code",
   "execution_count": null,
   "metadata": {},
   "outputs": [],
   "source": [
    "# Save the LoRA fine-tuned model\n",
    "model.save_pretrained(output_dir)\n",
    "tokenizer.save_pretrained(output_dir)"
   ]
  },
  {
   "cell_type": "code",
   "execution_count": null,
   "metadata": {},
   "outputs": [],
   "source": [
    "# Evaluate loss\n",
    "trainer = Trainer(model=model)\n",
    "eval_results = trainer.evaluate(test_dataset)\n",
    "perplexity = math.exp(eval_results[\"eval_loss\"])\n",
    "print(f\"Perplexity: {perplexity:.2f}\")"
   ]
  },
  {
   "cell_type": "code",
   "execution_count": null,
   "metadata": {},
   "outputs": [],
   "source": [
    "device = \"cuda\" if torch.cuda.is_available() else \"cpu\"\n",
    "# Load fresh base model\n",
    "original_model_clean = AutoModelForCausalLM.from_pretrained(model_name).to(device)\n",
    "\n",
    "trainer_orig = Trainer(\n",
    "    model=original_model_clean,\n",
    "    args=training_args,\n",
    "    data_collator=data_collator,\n",
    "    eval_dataset=test_dataset,\n",
    ")\n",
    "\n",
    "eval_results_orig = trainer_orig.evaluate()\n",
    "orig_perplexity = math.exp(eval_results_orig[\"eval_loss\"])\n",
    "print(f\"Original Model Perplexity: {orig_perplexity:.2f}\")"
   ]
  },
  {
   "cell_type": "markdown",
   "metadata": {},
   "source": [
    "Model perplexity decreased :)"
   ]
  }
 ],
 "metadata": {
  "kernelspec": {
   "display_name": "users-LLM-systems-intro",
   "language": "python",
   "name": "python3"
  },
  "language_info": {
   "codemirror_mode": {
    "name": "ipython",
    "version": 3
   },
   "file_extension": ".py",
   "mimetype": "text/x-python",
   "name": "python",
   "nbconvert_exporter": "python",
   "pygments_lexer": "ipython3",
   "version": "3.12.9"
  }
 },
 "nbformat": 4,
 "nbformat_minor": 2
}
